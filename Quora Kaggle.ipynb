{
 "cells": [
  {
   "cell_type": "markdown",
   "metadata": {},
   "source": [
    "# Quora - machine learning"
   ]
  },
  {
   "cell_type": "markdown",
   "metadata": {},
   "source": [
    "![](https://images.unsplash.com/photo-1543977443-c833ee30ebbe?ixlib=rb-1.2.1&q=80&fm=jpg&crop=entropy&cs=tinysrgb&w=1080&fit=max&ixid=eyJhcHBfaWQiOjEyMDd9)\n",
    "Picture by [Cyrus Gomez](https://unsplash.com/@cyrusgomez)"
   ]
  },
  {
   "cell_type": "markdown",
   "metadata": {},
   "source": [
    "# I. Import"
   ]
  },
  {
   "cell_type": "code",
   "execution_count": 39,
   "metadata": {},
   "outputs": [],
   "source": [
    "import os\n",
    "\n",
    "import matplotlib.pyplot as plt\n",
    "import numpy as np\n",
    "import pandas as pd\n",
    "import seaborn as sns\n",
    "\n",
    "import gensim\n",
    "from nltk.tokenize import word_tokenize\n",
    "from sklearn.svm import SVC\n",
    "from sklearn.ensemble import RandomForestClassifier\n",
    "from sklearn.metrics import f1_score\n",
    "from sklearn.model_selection import train_test_split\n",
    "\n",
    "\n",
    "import warnings\n",
    "warnings.filterwarnings('ignore')"
   ]
  },
  {
   "cell_type": "code",
   "execution_count": 2,
   "metadata": {},
   "outputs": [
    {
     "data": {
      "text/plain": [
       "('../input/train.csv', '../input/test.csv', '../input/sample_submission.csv')"
      ]
     },
     "execution_count": 2,
     "metadata": {},
     "output_type": "execute_result"
    }
   ],
   "source": [
    "X_train_filepath = os.path.join('..', 'input', 'train.csv')\n",
    "X_test_filepath = os.path.join('..', 'input', 'test.csv')\n",
    "sample_filepath = os.path.join('..', 'input', 'sample_submission.csv')\n",
    "X_train_filepath, X_test_filepath, sample_filepath"
   ]
  },
  {
   "cell_type": "code",
   "execution_count": 3,
   "metadata": {},
   "outputs": [
    {
     "data": {
      "text/plain": [
       "((1306122, 3), (56370, 2), (56370, 2))"
      ]
     },
     "execution_count": 3,
     "metadata": {},
     "output_type": "execute_result"
    }
   ],
   "source": [
    "df_train = pd.read_csv(X_train_filepath)\n",
    "df_test = pd.read_csv(X_test_filepath)\n",
    "sample = pd.read_csv(sample_filepath)\n",
    "df_train.shape, df_test.shape, sample.shape"
   ]
  },
  {
   "cell_type": "markdown",
   "metadata": {},
   "source": [
    "Let's watch this data!\n",
    "![](https://media.giphy.com/media/3o7TKrwl6kDw51mlLa/giphy.gif)"
   ]
  },
  {
   "cell_type": "markdown",
   "metadata": {},
   "source": [
    "# II. EDA"
   ]
  },
  {
   "cell_type": "code",
   "execution_count": 4,
   "metadata": {},
   "outputs": [
    {
     "data": {
      "text/html": [
       "<div>\n",
       "<style scoped>\n",
       "    .dataframe tbody tr th:only-of-type {\n",
       "        vertical-align: middle;\n",
       "    }\n",
       "\n",
       "    .dataframe tbody tr th {\n",
       "        vertical-align: top;\n",
       "    }\n",
       "\n",
       "    .dataframe thead th {\n",
       "        text-align: right;\n",
       "    }\n",
       "</style>\n",
       "<table border=\"1\" class=\"dataframe\">\n",
       "  <thead>\n",
       "    <tr style=\"text-align: right;\">\n",
       "      <th></th>\n",
       "      <th>qid</th>\n",
       "      <th>question_text</th>\n",
       "      <th>target</th>\n",
       "    </tr>\n",
       "  </thead>\n",
       "  <tbody>\n",
       "    <tr>\n",
       "      <th>1293837</th>\n",
       "      <td>fd95144eb0607efdd765</td>\n",
       "      <td>Can mild steel be welded to stainless steel?</td>\n",
       "      <td>0</td>\n",
       "    </tr>\n",
       "    <tr>\n",
       "      <th>888759</th>\n",
       "      <td>ae1f22306ab3d62a3f7f</td>\n",
       "      <td>Does girl like guy who boxing?</td>\n",
       "      <td>0</td>\n",
       "    </tr>\n",
       "    <tr>\n",
       "      <th>562853</th>\n",
       "      <td>6e448b3580e907a26e6d</td>\n",
       "      <td>How do I manage my DIY blog? O</td>\n",
       "      <td>0</td>\n",
       "    </tr>\n",
       "    <tr>\n",
       "      <th>1189020</th>\n",
       "      <td>e90366b6a95ba43bbc68</td>\n",
       "      <td>I have a red squirrel living under my roof and...</td>\n",
       "      <td>0</td>\n",
       "    </tr>\n",
       "    <tr>\n",
       "      <th>988047</th>\n",
       "      <td>c191c059affaf56b33a6</td>\n",
       "      <td>Where can I learn kungfu in Nepal?</td>\n",
       "      <td>0</td>\n",
       "    </tr>\n",
       "    <tr>\n",
       "      <th>579898</th>\n",
       "      <td>71a04fc13378c95a643c</td>\n",
       "      <td>Why is Ganesh and maa saraswathi is together e...</td>\n",
       "      <td>0</td>\n",
       "    </tr>\n",
       "    <tr>\n",
       "      <th>546559</th>\n",
       "      <td>6b11c5a93f1ec7e7920a</td>\n",
       "      <td>Why is sisal rope weaker than manila rope used...</td>\n",
       "      <td>0</td>\n",
       "    </tr>\n",
       "    <tr>\n",
       "      <th>859157</th>\n",
       "      <td>a854c7792f6a5aa13022</td>\n",
       "      <td>What is the importance of schools teaching the...</td>\n",
       "      <td>0</td>\n",
       "    </tr>\n",
       "    <tr>\n",
       "      <th>188097</th>\n",
       "      <td>24c9d08be0e67b85690d</td>\n",
       "      <td>Can we create a light wave by adding a magneti...</td>\n",
       "      <td>0</td>\n",
       "    </tr>\n",
       "    <tr>\n",
       "      <th>903033</th>\n",
       "      <td>b0f2328750bc59f62e17</td>\n",
       "      <td>Why is Oscar Romero important?</td>\n",
       "      <td>0</td>\n",
       "    </tr>\n",
       "  </tbody>\n",
       "</table>\n",
       "</div>"
      ],
      "text/plain": [
       "                          qid  \\\n",
       "1293837  fd95144eb0607efdd765   \n",
       "888759   ae1f22306ab3d62a3f7f   \n",
       "562853   6e448b3580e907a26e6d   \n",
       "1189020  e90366b6a95ba43bbc68   \n",
       "988047   c191c059affaf56b33a6   \n",
       "579898   71a04fc13378c95a643c   \n",
       "546559   6b11c5a93f1ec7e7920a   \n",
       "859157   a854c7792f6a5aa13022   \n",
       "188097   24c9d08be0e67b85690d   \n",
       "903033   b0f2328750bc59f62e17   \n",
       "\n",
       "                                             question_text  target  \n",
       "1293837       Can mild steel be welded to stainless steel?       0  \n",
       "888759                      Does girl like guy who boxing?       0  \n",
       "562853                      How do I manage my DIY blog? O       0  \n",
       "1189020  I have a red squirrel living under my roof and...       0  \n",
       "988047                  Where can I learn kungfu in Nepal?       0  \n",
       "579898   Why is Ganesh and maa saraswathi is together e...       0  \n",
       "546559   Why is sisal rope weaker than manila rope used...       0  \n",
       "859157   What is the importance of schools teaching the...       0  \n",
       "188097   Can we create a light wave by adding a magneti...       0  \n",
       "903033                      Why is Oscar Romero important?       0  "
      ]
     },
     "execution_count": 4,
     "metadata": {},
     "output_type": "execute_result"
    }
   ],
   "source": [
    "df_train.sample(10)"
   ]
  },
  {
   "cell_type": "markdown",
   "metadata": {},
   "source": [
    "- **qid** = unique question identifier\n",
    "- **question_text** = text of the question\n",
    "- **target** = 1: insincere question, 0:not insincere question"
   ]
  },
  {
   "cell_type": "code",
   "execution_count": 5,
   "metadata": {},
   "outputs": [
    {
     "data": {
      "text/html": [
       "<div>\n",
       "<style scoped>\n",
       "    .dataframe tbody tr th:only-of-type {\n",
       "        vertical-align: middle;\n",
       "    }\n",
       "\n",
       "    .dataframe tbody tr th {\n",
       "        vertical-align: top;\n",
       "    }\n",
       "\n",
       "    .dataframe thead th {\n",
       "        text-align: right;\n",
       "    }\n",
       "</style>\n",
       "<table border=\"1\" class=\"dataframe\">\n",
       "  <thead>\n",
       "    <tr style=\"text-align: right;\">\n",
       "      <th></th>\n",
       "      <th>qid</th>\n",
       "      <th>question_text</th>\n",
       "    </tr>\n",
       "  </thead>\n",
       "  <tbody>\n",
       "    <tr>\n",
       "      <th>26194</th>\n",
       "      <td>76652bbe7aaa52ffc512</td>\n",
       "      <td>How can I effectively delete my Myspace account?</td>\n",
       "    </tr>\n",
       "    <tr>\n",
       "      <th>41669</th>\n",
       "      <td>bc7a300e5d447fc27454</td>\n",
       "      <td>Can iget lisence for gear less scooter if aged...</td>\n",
       "    </tr>\n",
       "    <tr>\n",
       "      <th>8200</th>\n",
       "      <td>25a3c4c39eb7037876fa</td>\n",
       "      <td>Is it necessary to compromise our sleep to ach...</td>\n",
       "    </tr>\n",
       "    <tr>\n",
       "      <th>53780</th>\n",
       "      <td>f423bab2ef50ad1e0556</td>\n",
       "      <td>How does Serco operate as a company?</td>\n",
       "    </tr>\n",
       "    <tr>\n",
       "      <th>19108</th>\n",
       "      <td>569a351ca9f8b4e53bfc</td>\n",
       "      <td>What if I do CA and CFA?</td>\n",
       "    </tr>\n",
       "  </tbody>\n",
       "</table>\n",
       "</div>"
      ],
      "text/plain": [
       "                        qid                                      question_text\n",
       "26194  76652bbe7aaa52ffc512   How can I effectively delete my Myspace account?\n",
       "41669  bc7a300e5d447fc27454  Can iget lisence for gear less scooter if aged...\n",
       "8200   25a3c4c39eb7037876fa  Is it necessary to compromise our sleep to ach...\n",
       "53780  f423bab2ef50ad1e0556               How does Serco operate as a company?\n",
       "19108  569a351ca9f8b4e53bfc                           What if I do CA and CFA?"
      ]
     },
     "execution_count": 5,
     "metadata": {},
     "output_type": "execute_result"
    }
   ],
   "source": [
    "df_test.sample(5)"
   ]
  },
  {
   "cell_type": "markdown",
   "metadata": {},
   "source": [
    "- **qid** = identifiant de la question\n",
    "- **question_text** = question\n",
    "- **target** = 1: question non sincère, 0: question sincère"
   ]
  },
  {
   "cell_type": "code",
   "execution_count": 6,
   "metadata": {},
   "outputs": [
    {
     "name": "stdout",
     "output_type": "stream",
     "text": [
      "<class 'pandas.core.frame.DataFrame'>\n",
      "RangeIndex: 1306122 entries, 0 to 1306121\n",
      "Data columns (total 3 columns):\n",
      "qid              1306122 non-null object\n",
      "question_text    1306122 non-null object\n",
      "target           1306122 non-null int64\n",
      "dtypes: int64(1), object(2)\n",
      "memory usage: 29.9+ MB\n"
     ]
    }
   ],
   "source": [
    "df_train.info()"
   ]
  },
  {
   "cell_type": "code",
   "execution_count": 7,
   "metadata": {},
   "outputs": [
    {
     "data": {
      "text/html": [
       "<div>\n",
       "<style scoped>\n",
       "    .dataframe tbody tr th:only-of-type {\n",
       "        vertical-align: middle;\n",
       "    }\n",
       "\n",
       "    .dataframe tbody tr th {\n",
       "        vertical-align: top;\n",
       "    }\n",
       "\n",
       "    .dataframe thead th {\n",
       "        text-align: right;\n",
       "    }\n",
       "</style>\n",
       "<table border=\"1\" class=\"dataframe\">\n",
       "  <thead>\n",
       "    <tr style=\"text-align: right;\">\n",
       "      <th></th>\n",
       "      <th>target</th>\n",
       "    </tr>\n",
       "  </thead>\n",
       "  <tbody>\n",
       "    <tr>\n",
       "      <th>count</th>\n",
       "      <td>1.306122e+06</td>\n",
       "    </tr>\n",
       "    <tr>\n",
       "      <th>mean</th>\n",
       "      <td>6.187018e-02</td>\n",
       "    </tr>\n",
       "    <tr>\n",
       "      <th>std</th>\n",
       "      <td>2.409197e-01</td>\n",
       "    </tr>\n",
       "    <tr>\n",
       "      <th>min</th>\n",
       "      <td>0.000000e+00</td>\n",
       "    </tr>\n",
       "    <tr>\n",
       "      <th>25%</th>\n",
       "      <td>0.000000e+00</td>\n",
       "    </tr>\n",
       "    <tr>\n",
       "      <th>50%</th>\n",
       "      <td>0.000000e+00</td>\n",
       "    </tr>\n",
       "    <tr>\n",
       "      <th>75%</th>\n",
       "      <td>0.000000e+00</td>\n",
       "    </tr>\n",
       "    <tr>\n",
       "      <th>max</th>\n",
       "      <td>1.000000e+00</td>\n",
       "    </tr>\n",
       "  </tbody>\n",
       "</table>\n",
       "</div>"
      ],
      "text/plain": [
       "             target\n",
       "count  1.306122e+06\n",
       "mean   6.187018e-02\n",
       "std    2.409197e-01\n",
       "min    0.000000e+00\n",
       "25%    0.000000e+00\n",
       "50%    0.000000e+00\n",
       "75%    0.000000e+00\n",
       "max    1.000000e+00"
      ]
     },
     "execution_count": 7,
     "metadata": {},
     "output_type": "execute_result"
    }
   ],
   "source": [
    "df_train.describe()"
   ]
  },
  {
   "cell_type": "code",
   "execution_count": 8,
   "metadata": {},
   "outputs": [
    {
     "data": {
      "text/plain": [
       "0"
      ]
     },
     "execution_count": 8,
     "metadata": {},
     "output_type": "execute_result"
    }
   ],
   "source": [
    "df_train.duplicated().sum()"
   ]
  },
  {
   "cell_type": "code",
   "execution_count": 4,
   "metadata": {},
   "outputs": [],
   "source": [
    "df_train = df_train.sample(100000)"
   ]
  },
  {
   "cell_type": "code",
   "execution_count": 5,
   "metadata": {},
   "outputs": [
    {
     "data": {
      "text/plain": [
       "(100000, 3)"
      ]
     },
     "execution_count": 5,
     "metadata": {},
     "output_type": "execute_result"
    }
   ],
   "source": [
    "df_train.shape"
   ]
  },
  {
   "cell_type": "code",
   "execution_count": 6,
   "metadata": {},
   "outputs": [
    {
     "data": {
      "text/html": [
       "<div>\n",
       "<style scoped>\n",
       "    .dataframe tbody tr th:only-of-type {\n",
       "        vertical-align: middle;\n",
       "    }\n",
       "\n",
       "    .dataframe tbody tr th {\n",
       "        vertical-align: top;\n",
       "    }\n",
       "\n",
       "    .dataframe thead th {\n",
       "        text-align: right;\n",
       "    }\n",
       "</style>\n",
       "<table border=\"1\" class=\"dataframe\">\n",
       "  <thead>\n",
       "    <tr style=\"text-align: right;\">\n",
       "      <th></th>\n",
       "      <th>qid</th>\n",
       "      <th>question_text</th>\n",
       "      <th>target</th>\n",
       "    </tr>\n",
       "  </thead>\n",
       "  <tbody>\n",
       "    <tr>\n",
       "      <th>876140</th>\n",
       "      <td>aba5f61053e3864247e7</td>\n",
       "      <td>How can you take care of yourself?</td>\n",
       "      <td>0</td>\n",
       "    </tr>\n",
       "    <tr>\n",
       "      <th>302100</th>\n",
       "      <td>3b27fdcec346bfa1e5ae</td>\n",
       "      <td>How can I share my website link while writing ...</td>\n",
       "      <td>0</td>\n",
       "    </tr>\n",
       "    <tr>\n",
       "      <th>252965</th>\n",
       "      <td>3180ccf6d5f118694c9c</td>\n",
       "      <td>Does an easy \"Hebrew reader\" website exist, li...</td>\n",
       "      <td>0</td>\n",
       "    </tr>\n",
       "    <tr>\n",
       "      <th>167842</th>\n",
       "      <td>20cc29c09a0ae80c87e8</td>\n",
       "      <td>Who is the next head coach of the Indian crick...</td>\n",
       "      <td>0</td>\n",
       "    </tr>\n",
       "    <tr>\n",
       "      <th>957830</th>\n",
       "      <td>bba63ed424798fdb817e</td>\n",
       "      <td>Where does Brian Bi consider himself on the Po...</td>\n",
       "      <td>0</td>\n",
       "    </tr>\n",
       "  </tbody>\n",
       "</table>\n",
       "</div>"
      ],
      "text/plain": [
       "                         qid  \\\n",
       "876140  aba5f61053e3864247e7   \n",
       "302100  3b27fdcec346bfa1e5ae   \n",
       "252965  3180ccf6d5f118694c9c   \n",
       "167842  20cc29c09a0ae80c87e8   \n",
       "957830  bba63ed424798fdb817e   \n",
       "\n",
       "                                            question_text  target  \n",
       "876140                 How can you take care of yourself?       0  \n",
       "302100  How can I share my website link while writing ...       0  \n",
       "252965  Does an easy \"Hebrew reader\" website exist, li...       0  \n",
       "167842  Who is the next head coach of the Indian crick...       0  \n",
       "957830  Where does Brian Bi consider himself on the Po...       0  "
      ]
     },
     "execution_count": 6,
     "metadata": {},
     "output_type": "execute_result"
    }
   ],
   "source": [
    "df_train.head()"
   ]
  },
  {
   "cell_type": "code",
   "execution_count": 7,
   "metadata": {},
   "outputs": [
    {
     "data": {
      "text/plain": [
       "6183"
      ]
     },
     "execution_count": 7,
     "metadata": {},
     "output_type": "execute_result"
    }
   ],
   "source": [
    "len(df_train[df_train['target'] == 1]['question_text'])"
   ]
  },
  {
   "cell_type": "code",
   "execution_count": 8,
   "metadata": {},
   "outputs": [
    {
     "data": {
      "image/png": "[encoded data removed]",
      "text/plain": [
       "<Figure size 720x504 with 1 Axes>"
      ]
     },
     "metadata": {},
     "output_type": "display_data"
    }
   ],
   "source": [
    "ax, fig = plt.subplots(figsize=(10, 7))\n",
    "sns.countplot(x='target', data=df_train, palette='hls')\n",
    "plt.title('Reparition of question by insincerity');"
   ]
  },
  {
   "cell_type": "code",
   "execution_count": 9,
   "metadata": {},
   "outputs": [
    {
     "data": {
      "text/plain": [
       "0    93817\n",
       "1     6183\n",
       "Name: target, dtype: int64"
      ]
     },
     "execution_count": 9,
     "metadata": {},
     "output_type": "execute_result"
    }
   ],
   "source": [
    "df_train['target'].value_counts()"
   ]
  },
  {
   "cell_type": "code",
   "execution_count": 10,
   "metadata": {},
   "outputs": [
    {
     "name": "stdout",
     "output_type": "stream",
     "text": [
      "0.06183 0.93817\n"
     ]
    }
   ],
   "source": [
    "insincere = len(df_train[df_train['target'] == 1]) / len(df_train)\n",
    "sincere = len(df_train[df_train['target'] == 0]) / len(df_train)\n",
    "print(insincere, sincere)"
   ]
  },
  {
   "cell_type": "markdown",
   "metadata": {},
   "source": [
    "Le dataset est très balancé avec seulement 6% de question non sincère "
   ]
  },
  {
   "cell_type": "markdown",
   "metadata": {},
   "source": [
    "Appliquons la méthode de word embedding!\n",
    "\n",
    "![](https://media.giphy.com/media/3o6ozjrPeWQifzyA6Y/giphy.gif)"
   ]
  },
  {
   "cell_type": "markdown",
   "metadata": {},
   "source": [
    "# III. Word embedings"
   ]
  },
  {
   "cell_type": "code",
   "execution_count": 11,
   "metadata": {},
   "outputs": [],
   "source": [
    "def read_glove_vecs(glove_file):\n",
    "    with open(glove_file, 'r') as f:\n",
    "        words = []\n",
    "        word_to_vec_map = {}\n",
    "        \n",
    "        for line in f:\n",
    "            line = line.strip().split()\n",
    "            curr_word = line[0]\n",
    "            words.append(curr_word)\n",
    "            word_to_vec_map[curr_word] = np.array(line[1:], dtype=np.float64)\n",
    "            \n",
    "    return words, word_to_vec_map"
   ]
  },
  {
   "cell_type": "code",
   "execution_count": 12,
   "metadata": {},
   "outputs": [],
   "source": [
    "glove_path = os.path.join('..', 'input', 'glove.6B.50d.txt')\n",
    "words, word_to_vec_map = read_glove_vecs(glove_path)"
   ]
  },
  {
   "cell_type": "code",
   "execution_count": 13,
   "metadata": {},
   "outputs": [
    {
     "data": {
      "text/plain": [
       "['so', 'them', 'what', 'him', 'united']"
      ]
     },
     "execution_count": 13,
     "metadata": {},
     "output_type": "execute_result"
    }
   ],
   "source": [
    "words[100:105]"
   ]
  },
  {
   "cell_type": "code",
   "execution_count": 15,
   "metadata": {},
   "outputs": [
    {
     "data": {
      "text/plain": [
       "array([ 4.1800e-01,  2.4968e-01, -4.1242e-01,  1.2170e-01,  3.4527e-01,\n",
       "       -4.4457e-02, -4.9688e-01, -1.7862e-01, -6.6023e-04, -6.5660e-01,\n",
       "        2.7843e-01, -1.4767e-01, -5.5677e-01,  1.4658e-01, -9.5095e-03,\n",
       "        1.1658e-02,  1.0204e-01, -1.2792e-01, -8.4430e-01, -1.2181e-01,\n",
       "       -1.6801e-02, -3.3279e-01, -1.5520e-01, -2.3131e-01, -1.9181e-01,\n",
       "       -1.8823e+00, -7.6746e-01,  9.9051e-02, -4.2125e-01, -1.9526e-01,\n",
       "        4.0071e+00, -1.8594e-01, -5.2287e-01, -3.1681e-01,  5.9213e-04,\n",
       "        7.4449e-03,  1.7778e-01, -1.5897e-01,  1.2041e-02, -5.4223e-02,\n",
       "       -2.9871e-01, -1.5749e-01, -3.4758e-01, -4.5637e-02, -4.4251e-01,\n",
       "        1.8785e-01,  2.7849e-03, -1.8411e-01, -1.1514e-01, -7.8581e-01])"
      ]
     },
     "execution_count": 15,
     "metadata": {},
     "output_type": "execute_result"
    }
   ],
   "source": [
    "word_to_vec_map['the']"
   ]
  },
  {
   "cell_type": "code",
   "execution_count": 18,
   "metadata": {},
   "outputs": [],
   "source": [
    "df_train['tokens'] = [word_tokenize(s) for s in df_train['question_text']]"
   ]
  },
  {
   "cell_type": "code",
   "execution_count": 19,
   "metadata": {},
   "outputs": [
    {
     "data": {
      "text/html": [
       "<div>\n",
       "<style scoped>\n",
       "    .dataframe tbody tr th:only-of-type {\n",
       "        vertical-align: middle;\n",
       "    }\n",
       "\n",
       "    .dataframe tbody tr th {\n",
       "        vertical-align: top;\n",
       "    }\n",
       "\n",
       "    .dataframe thead th {\n",
       "        text-align: right;\n",
       "    }\n",
       "</style>\n",
       "<table border=\"1\" class=\"dataframe\">\n",
       "  <thead>\n",
       "    <tr style=\"text-align: right;\">\n",
       "      <th></th>\n",
       "      <th>qid</th>\n",
       "      <th>question_text</th>\n",
       "      <th>target</th>\n",
       "      <th>tokens</th>\n",
       "    </tr>\n",
       "  </thead>\n",
       "  <tbody>\n",
       "    <tr>\n",
       "      <th>828565</th>\n",
       "      <td>a262536126716c013643</td>\n",
       "      <td>Can I use Python to create Windows Apps?</td>\n",
       "      <td>0</td>\n",
       "      <td>[Can, I, use, Python, to, create, Windows, App...</td>\n",
       "    </tr>\n",
       "    <tr>\n",
       "      <th>466465</th>\n",
       "      <td>5b58332a4a082ed0766a</td>\n",
       "      <td>Why is the golden gate bridge important?</td>\n",
       "      <td>0</td>\n",
       "      <td>[Why, is, the, golden, gate, bridge, important...</td>\n",
       "    </tr>\n",
       "    <tr>\n",
       "      <th>690407</th>\n",
       "      <td>87399b10ea996d2d458d</td>\n",
       "      <td>What is immunodiffusion?</td>\n",
       "      <td>0</td>\n",
       "      <td>[What, is, immunodiffusion, ?]</td>\n",
       "    </tr>\n",
       "    <tr>\n",
       "      <th>588117</th>\n",
       "      <td>7333e8e9a5ac675cdf46</td>\n",
       "      <td>What is your opinion on A V Swami's speech in ...</td>\n",
       "      <td>0</td>\n",
       "      <td>[What, is, your, opinion, on, A, V, Swami, 's,...</td>\n",
       "    </tr>\n",
       "    <tr>\n",
       "      <th>315800</th>\n",
       "      <td>3de4a83b420a306c1d9e</td>\n",
       "      <td>How can you say that f=R/2,only when the apert...</td>\n",
       "      <td>0</td>\n",
       "      <td>[How, can, you, say, that, f=R/2, ,, only, whe...</td>\n",
       "    </tr>\n",
       "    <tr>\n",
       "      <th>1006834</th>\n",
       "      <td>c54bff65a43794b917ed</td>\n",
       "      <td>How do you discover God's will?</td>\n",
       "      <td>0</td>\n",
       "      <td>[How, do, you, discover, God, 's, will, ?]</td>\n",
       "    </tr>\n",
       "    <tr>\n",
       "      <th>12465</th>\n",
       "      <td>0272a4173ce783af643e</td>\n",
       "      <td>What is the difference between a natural bodyb...</td>\n",
       "      <td>0</td>\n",
       "      <td>[What, is, the, difference, between, a, natura...</td>\n",
       "    </tr>\n",
       "    <tr>\n",
       "      <th>1191537</th>\n",
       "      <td>e984ee3f984f44990000</td>\n",
       "      <td>What is the amount of respect you've seen bein...</td>\n",
       "      <td>0</td>\n",
       "      <td>[What, is, the, amount, of, respect, you, 've,...</td>\n",
       "    </tr>\n",
       "    <tr>\n",
       "      <th>1177002</th>\n",
       "      <td>e6a4f6c1915bc8f2bd5a</td>\n",
       "      <td>Is it an impeachable offense for a sitting hea...</td>\n",
       "      <td>1</td>\n",
       "      <td>[Is, it, an, impeachable, offense, for, a, sit...</td>\n",
       "    </tr>\n",
       "    <tr>\n",
       "      <th>1112224</th>\n",
       "      <td>d9f0f84216ee2d759116</td>\n",
       "      <td>What are the similarities between Raees and Ab...</td>\n",
       "      <td>0</td>\n",
       "      <td>[What, are, the, similarities, between, Raees,...</td>\n",
       "    </tr>\n",
       "  </tbody>\n",
       "</table>\n",
       "</div>"
      ],
      "text/plain": [
       "                          qid  \\\n",
       "828565   a262536126716c013643   \n",
       "466465   5b58332a4a082ed0766a   \n",
       "690407   87399b10ea996d2d458d   \n",
       "588117   7333e8e9a5ac675cdf46   \n",
       "315800   3de4a83b420a306c1d9e   \n",
       "1006834  c54bff65a43794b917ed   \n",
       "12465    0272a4173ce783af643e   \n",
       "1191537  e984ee3f984f44990000   \n",
       "1177002  e6a4f6c1915bc8f2bd5a   \n",
       "1112224  d9f0f84216ee2d759116   \n",
       "\n",
       "                                             question_text  target  \\\n",
       "828565            Can I use Python to create Windows Apps?       0   \n",
       "466465            Why is the golden gate bridge important?       0   \n",
       "690407                            What is immunodiffusion?       0   \n",
       "588117   What is your opinion on A V Swami's speech in ...       0   \n",
       "315800   How can you say that f=R/2,only when the apert...       0   \n",
       "1006834                    How do you discover God's will?       0   \n",
       "12465    What is the difference between a natural bodyb...       0   \n",
       "1191537  What is the amount of respect you've seen bein...       0   \n",
       "1177002  Is it an impeachable offense for a sitting hea...       1   \n",
       "1112224  What are the similarities between Raees and Ab...       0   \n",
       "\n",
       "                                                    tokens  \n",
       "828565   [Can, I, use, Python, to, create, Windows, App...  \n",
       "466465   [Why, is, the, golden, gate, bridge, important...  \n",
       "690407                      [What, is, immunodiffusion, ?]  \n",
       "588117   [What, is, your, opinion, on, A, V, Swami, 's,...  \n",
       "315800   [How, can, you, say, that, f=R/2, ,, only, whe...  \n",
       "1006834         [How, do, you, discover, God, 's, will, ?]  \n",
       "12465    [What, is, the, difference, between, a, natura...  \n",
       "1191537  [What, is, the, amount, of, respect, you, 've,...  \n",
       "1177002  [Is, it, an, impeachable, offense, for, a, sit...  \n",
       "1112224  [What, are, the, similarities, between, Raees,...  "
      ]
     },
     "execution_count": 19,
     "metadata": {},
     "output_type": "execute_result"
    }
   ],
   "source": [
    "df_train.sample(10)"
   ]
  },
  {
   "cell_type": "code",
   "execution_count": 20,
   "metadata": {},
   "outputs": [],
   "source": [
    "df_train['tokens'] = [[word.lower() for word in sentence]for sentence in df_train['tokens']]"
   ]
  },
  {
   "cell_type": "code",
   "execution_count": 21,
   "metadata": {
    "scrolled": true
   },
   "outputs": [
    {
     "data": {
      "text/html": [
       "<div>\n",
       "<style scoped>\n",
       "    .dataframe tbody tr th:only-of-type {\n",
       "        vertical-align: middle;\n",
       "    }\n",
       "\n",
       "    .dataframe tbody tr th {\n",
       "        vertical-align: top;\n",
       "    }\n",
       "\n",
       "    .dataframe thead th {\n",
       "        text-align: right;\n",
       "    }\n",
       "</style>\n",
       "<table border=\"1\" class=\"dataframe\">\n",
       "  <thead>\n",
       "    <tr style=\"text-align: right;\">\n",
       "      <th></th>\n",
       "      <th>qid</th>\n",
       "      <th>question_text</th>\n",
       "      <th>target</th>\n",
       "      <th>tokens</th>\n",
       "    </tr>\n",
       "  </thead>\n",
       "  <tbody>\n",
       "    <tr>\n",
       "      <th>9720</th>\n",
       "      <td>01e60798e6ab77ce85d3</td>\n",
       "      <td>Should the bottom button of your suit be butto...</td>\n",
       "      <td>0</td>\n",
       "      <td>[should, the, bottom, button, of, your, suit, ...</td>\n",
       "    </tr>\n",
       "    <tr>\n",
       "      <th>331046</th>\n",
       "      <td>40e259768354412c4a95</td>\n",
       "      <td>Can we wash our hair day by day? How should we...</td>\n",
       "      <td>0</td>\n",
       "      <td>[can, we, wash, our, hair, day, by, day, ?, ho...</td>\n",
       "    </tr>\n",
       "    <tr>\n",
       "      <th>97633</th>\n",
       "      <td>131cbbf932eaeee04e6b</td>\n",
       "      <td>What are some amazing mind blowing paradoxes?</td>\n",
       "      <td>0</td>\n",
       "      <td>[what, are, some, amazing, mind, blowing, para...</td>\n",
       "    </tr>\n",
       "    <tr>\n",
       "      <th>617815</th>\n",
       "      <td>78fcfe15463c4d74e8c6</td>\n",
       "      <td>Im 14 years old, hit puberty since June 2015,h...</td>\n",
       "      <td>0</td>\n",
       "      <td>[im, 14, years, old, ,, hit, puberty, since, j...</td>\n",
       "    </tr>\n",
       "    <tr>\n",
       "      <th>1173844</th>\n",
       "      <td>e60a2530ef43e3dc8577</td>\n",
       "      <td>Why do we believe in destiny?</td>\n",
       "      <td>0</td>\n",
       "      <td>[why, do, we, believe, in, destiny, ?]</td>\n",
       "    </tr>\n",
       "    <tr>\n",
       "      <th>226938</th>\n",
       "      <td>2c5fff37d0cdd05f16d2</td>\n",
       "      <td>If Michael Jackson molested kids does it inval...</td>\n",
       "      <td>0</td>\n",
       "      <td>[if, michael, jackson, molested, kids, does, i...</td>\n",
       "    </tr>\n",
       "    <tr>\n",
       "      <th>837117</th>\n",
       "      <td>a40b3c25b9c1cbdc2c96</td>\n",
       "      <td>What are the minimum marks out of 300 in PCB r...</td>\n",
       "      <td>0</td>\n",
       "      <td>[what, are, the, minimum, marks, out, of, 300,...</td>\n",
       "    </tr>\n",
       "    <tr>\n",
       "      <th>113744</th>\n",
       "      <td>16418ab9d1e2e87cf9b9</td>\n",
       "      <td>Can you overdraft with opportunity checking?</td>\n",
       "      <td>0</td>\n",
       "      <td>[can, you, overdraft, with, opportunity, check...</td>\n",
       "    </tr>\n",
       "    <tr>\n",
       "      <th>231137</th>\n",
       "      <td>2d3488d5cbcc6f26d84f</td>\n",
       "      <td>Why don't Muslim countries stock pile a supply...</td>\n",
       "      <td>1</td>\n",
       "      <td>[why, do, n't, muslim, countries, stock, pile,...</td>\n",
       "    </tr>\n",
       "    <tr>\n",
       "      <th>788616</th>\n",
       "      <td>9a82044d54389fc1ff2f</td>\n",
       "      <td>Is it preferable to contract diseases naturall...</td>\n",
       "      <td>0</td>\n",
       "      <td>[is, it, preferable, to, contract, diseases, n...</td>\n",
       "    </tr>\n",
       "  </tbody>\n",
       "</table>\n",
       "</div>"
      ],
      "text/plain": [
       "                          qid  \\\n",
       "9720     01e60798e6ab77ce85d3   \n",
       "331046   40e259768354412c4a95   \n",
       "97633    131cbbf932eaeee04e6b   \n",
       "617815   78fcfe15463c4d74e8c6   \n",
       "1173844  e60a2530ef43e3dc8577   \n",
       "226938   2c5fff37d0cdd05f16d2   \n",
       "837117   a40b3c25b9c1cbdc2c96   \n",
       "113744   16418ab9d1e2e87cf9b9   \n",
       "231137   2d3488d5cbcc6f26d84f   \n",
       "788616   9a82044d54389fc1ff2f   \n",
       "\n",
       "                                             question_text  target  \\\n",
       "9720     Should the bottom button of your suit be butto...       0   \n",
       "331046   Can we wash our hair day by day? How should we...       0   \n",
       "97633        What are some amazing mind blowing paradoxes?       0   \n",
       "617815   Im 14 years old, hit puberty since June 2015,h...       0   \n",
       "1173844                      Why do we believe in destiny?       0   \n",
       "226938   If Michael Jackson molested kids does it inval...       0   \n",
       "837117   What are the minimum marks out of 300 in PCB r...       0   \n",
       "113744        Can you overdraft with opportunity checking?       0   \n",
       "231137   Why don't Muslim countries stock pile a supply...       1   \n",
       "788616   Is it preferable to contract diseases naturall...       0   \n",
       "\n",
       "                                                    tokens  \n",
       "9720     [should, the, bottom, button, of, your, suit, ...  \n",
       "331046   [can, we, wash, our, hair, day, by, day, ?, ho...  \n",
       "97633    [what, are, some, amazing, mind, blowing, para...  \n",
       "617815   [im, 14, years, old, ,, hit, puberty, since, j...  \n",
       "1173844             [why, do, we, believe, in, destiny, ?]  \n",
       "226938   [if, michael, jackson, molested, kids, does, i...  \n",
       "837117   [what, are, the, minimum, marks, out, of, 300,...  \n",
       "113744   [can, you, overdraft, with, opportunity, check...  \n",
       "231137   [why, do, n't, muslim, countries, stock, pile,...  \n",
       "788616   [is, it, preferable, to, contract, diseases, n...  "
      ]
     },
     "execution_count": 21,
     "metadata": {},
     "output_type": "execute_result"
    }
   ],
   "source": [
    "df_train.sample(10)"
   ]
  },
  {
   "cell_type": "code",
   "execution_count": 22,
   "metadata": {},
   "outputs": [],
   "source": [
    "embedding = [[word_to_vec_map[word] for word in sentence \n",
    "              if word in words] for sentence in df_train['tokens']]"
   ]
  },
  {
   "cell_type": "code",
   "execution_count": 23,
   "metadata": {},
   "outputs": [
    {
     "data": {
      "text/plain": [
       "[array([ 6.8938e-01, -1.0644e-01,  1.7083e-01, -3.7583e-01,  7.5170e-01,\n",
       "         7.8149e-04, -5.3102e-01, -1.9903e-01, -1.4419e-01,  1.2748e-01,\n",
       "        -2.8038e-01,  7.0723e-01, -5.4100e-01,  1.9625e-01,  9.6635e-01,\n",
       "         6.0519e-01,  4.0918e-01, -3.1612e-02,  5.3900e-01, -8.7086e-01,\n",
       "        -2.0912e-01,  5.6853e-01,  6.5983e-01,  1.4583e-01,  1.0112e+00,\n",
       "        -2.0736e+00, -1.1242e+00,  5.9662e-04,  7.0332e-01, -8.2608e-01,\n",
       "         3.4445e+00,  3.2984e-01, -3.5324e-01, -1.0335e+00, -1.4753e-01,\n",
       "        -1.4874e-01, -4.1246e-01,  3.3489e-01,  1.9841e-01, -2.5478e-01,\n",
       "        -4.7193e-01,  6.6701e-02,  3.2777e-01,  6.8781e-01,  3.6428e-01,\n",
       "         2.1522e-01,  1.6494e-01,  4.1761e-01, -2.2504e-01,  6.1412e-01]),\n",
       " array([ 0.8052  ,  0.37121 ,  0.55933 , -0.011405,  0.17319 ,  0.195   ,\n",
       "         0.057701, -0.12447 , -0.011342,  0.20654 ,  0.41079 ,  0.89578 ,\n",
       "         0.31893 ,  0.030787,  0.60194 ,  1.2023  ,  0.68283 , -0.13267 ,\n",
       "         0.16984 , -1.4674  , -0.41844 , -0.47395 ,  0.7267  ,  0.61088 ,\n",
       "         0.44584 , -1.4793  , -0.50037 , -0.12249 ,  0.75994 , -0.77112 ,\n",
       "         3.9653  ,  0.38077 , -0.6439  , -0.84899 ,  0.07554 ,  0.17522 ,\n",
       "         0.30117 ,  0.12964 ,  0.27253 , -0.32951 ,  0.34211 ,  0.15608 ,\n",
       "         0.20953 ,  0.97948 ,  0.35927 ,  0.19116 ,  0.45494 , -0.1895  ,\n",
       "        -0.20902 ,  0.47612 ]),\n",
       " array([ 1.1891e-01,  1.5255e-01, -8.2073e-02, -7.4144e-01,  7.5917e-01,\n",
       "        -4.8328e-01, -3.1009e-01,  5.1476e-01, -9.8708e-01,  6.1757e-04,\n",
       "        -1.5043e-01,  8.3770e-01, -1.0797e+00, -5.1460e-01,  1.3188e+00,\n",
       "         6.2007e-01,  1.3779e-01,  4.7108e-01, -7.2874e-02, -7.2675e-01,\n",
       "        -7.4116e-01,  7.5263e-01,  8.8180e-01,  2.9561e-01,  1.3548e+00,\n",
       "        -2.5701e+00, -1.3523e+00,  4.5880e-01,  1.0068e+00, -1.1856e+00,\n",
       "         3.4737e+00,  7.7898e-01, -7.2929e-01,  2.5102e-01, -2.6156e-01,\n",
       "        -3.4684e-01,  5.5841e-01,  7.5098e-01,  4.9830e-01, -2.6823e-01,\n",
       "        -2.7443e-03, -1.8298e-02, -2.8096e-01,  5.5318e-01,  3.7706e-02,\n",
       "         1.8555e-01, -1.5025e-01, -5.7512e-01, -2.6671e-01,  9.2121e-01]),\n",
       " array([ 0.39412 ,  0.23183 ,  0.68751 ,  0.60652 ,  1.3761  ,  0.27754 ,\n",
       "        -0.32208 , -0.62187 , -0.36348 ,  0.67472 , -0.040729, -0.20789 ,\n",
       "        -0.16353 , -0.65121 ,  0.16243 ,  0.38098 , -0.43867 , -0.6112  ,\n",
       "        -0.61015 , -0.70224 ,  1.0659  ,  0.42596 ,  0.041147, -0.42776 ,\n",
       "        -0.2011  , -0.73324 , -0.32669 , -0.68379 ,  0.16033 ,  0.19827 ,\n",
       "         3.448   ,  1.1533  ,  0.61444 ,  0.90163 ,  0.28738 , -1.5299  ,\n",
       "        -0.95981 , -0.074803,  0.047515, -0.75995 ,  0.14074 , -0.39512 ,\n",
       "         0.65483 ,  0.67043 , -0.41361 ,  0.034972, -0.30459 ,  0.57809 ,\n",
       "         0.25825 , -0.1166  ]),\n",
       " array([-0.27279  ,  0.77515  , -0.10181  , -0.9166   ,  0.90477  ,\n",
       "        -0.070501 , -0.47569  ,  0.44608  ,  0.1697   ,  0.072352 ,\n",
       "        -0.16306  ,  0.86852  , -0.76634  , -0.016103 ,  0.78492  ,\n",
       "         0.2952   , -0.74859  ,  0.2099   ,  0.65537  , -0.62334  ,\n",
       "        -0.43711  ,  1.1854   ,  0.47519  ,  0.0093866,  1.1377   ,\n",
       "        -2.4394   , -1.5619   ,  0.49001  ,  1.0985   , -0.97371  ,\n",
       "         3.4628   ,  1.0408   , -0.65138  ,  0.57189  , -0.12523  ,\n",
       "         0.26705  ,  0.16373  ,  0.41105  ,  0.7509   , -0.77923  ,\n",
       "         0.03638  , -0.28609  , -0.72365  ,  0.63511  ,  0.089441 ,\n",
       "        -0.30133  ,  0.36518  , -0.73367  ,  0.040383 ,  0.26657  ]),\n",
       " array([-0.063305 ,  0.36144  ,  0.66377  ,  0.74403  , -0.16189  ,\n",
       "        -0.61134  , -1.4866   , -0.68908  ,  0.93541  ,  0.083576 ,\n",
       "         0.16177  , -0.24424  , -0.024121 , -0.13664  ,  0.57305  ,\n",
       "        -0.40993  , -0.44983  , -0.069966 ,  0.2598   ,  0.5309   ,\n",
       "         0.5764   ,  0.08749  ,  0.2712   ,  1.0707   ,  0.0052268,\n",
       "        -0.66154  , -0.46884  , -0.012917 , -0.98887  , -0.22985  ,\n",
       "         2.6159   , -0.76125  , -0.023108 , -0.90136  , -1.0596   ,\n",
       "         0.3905   ,  0.85048  , -0.61068  , -0.64976  , -0.65858  ,\n",
       "         1.5573   , -0.81539  , -0.93183  , -0.15268  ,  0.21792  ,\n",
       "        -0.42776  , -0.63644  ,  0.87481  ,  0.93844  , -0.20244  ]),\n",
       " array([ 1.1875   ,  0.75975  ,  0.51014  ,  0.72994  , -0.36643  ,\n",
       "         0.54406  , -0.25339  , -0.31406  ,  0.82868  ,  0.012373 ,\n",
       "         0.13015  , -0.024821 , -0.52096  , -0.0811   , -0.4333   ,\n",
       "         0.7706   , -0.095194 , -0.39945  ,  0.21679  ,  0.53918  ,\n",
       "         0.33652  , -0.23034  , -0.35029  ,  0.85896  ,  0.2803   ,\n",
       "        -1.6843   , -0.017249 ,  0.11019  ,  0.3902   , -0.46635  ,\n",
       "         2.451    , -0.1828   , -0.031705 , -0.88691  ,  0.036665 ,\n",
       "        -0.26362  , -0.049961 ,  0.0079798, -0.67946  ,  0.41894  ,\n",
       "         0.55619  , -0.09015  ,  0.22926  ,  0.24229  ,  0.093583 ,\n",
       "         0.010281 ,  0.23928  ,  0.3354   ,  0.36021  , -0.46807  ]),\n",
       " array([ 0.1011  , -0.16566 ,  0.22035 , -0.10629 ,  0.46929 ,  0.37968 ,\n",
       "        -0.62815 , -0.14385 , -0.38333 ,  0.055405,  0.23511 , -0.20999 ,\n",
       "        -0.55395 , -0.38271 ,  0.21008 ,  0.02161 , -0.23054 , -0.13576 ,\n",
       "        -0.61636 , -0.4678  ,  0.25716 ,  0.62309 ,  0.3837  , -0.25665 ,\n",
       "         0.09041 , -1.5184  ,  0.4762  , -0.089573,  0.025347, -0.25974 ,\n",
       "         3.6121  ,  0.62788 ,  0.15387 , -0.062747,  0.28699 , -0.16471 ,\n",
       "        -0.2079  ,  0.4407  ,  0.065441, -0.10303 , -0.15489 ,  0.27352 ,\n",
       "         0.38356 , -0.098016,  0.10705 , -0.083071, -0.27168 , -0.49441 ,\n",
       "         0.043538, -0.39141 ]),\n",
       " array([-0.517   ,  0.2353  , -0.70243 , -1.0966  ,  0.047898,  0.44228 ,\n",
       "        -0.75899 , -0.53738 , -0.41805 ,  0.5506  , -0.7031  ,  0.84884 ,\n",
       "        -0.15332 ,  0.038719,  0.59852 , -1.107   , -0.24501 , -0.11719 ,\n",
       "         0.42479 ,  0.030343,  0.96765 ,  0.87345 ,  0.59367 ,  0.36498 ,\n",
       "         1.1705  , -1.2302  , -0.95955 , -0.52194 , -0.31544 , -0.51326 ,\n",
       "         2.969   , -0.81161 ,  0.16697 , -0.7964  , -0.25191 ,  0.26995 ,\n",
       "        -0.064299,  0.61651 , -0.25735 , -0.078676,  0.66555 ,  0.13872 ,\n",
       "        -0.22657 ,  0.45144 , -0.59525 , -0.029461,  0.50908 ,  0.30377 ,\n",
       "        -0.64897 ,  0.44812 ]),\n",
       " array([ 0.21705 ,  0.46515 , -0.46757 ,  0.10082 ,  1.0135  ,  0.74845 ,\n",
       "        -0.53104 , -0.26256 ,  0.16812 ,  0.13182 , -0.24909 , -0.44185 ,\n",
       "        -0.21739 ,  0.51004 ,  0.13448 , -0.43141 , -0.03123 ,  0.20674 ,\n",
       "        -0.78138 , -0.20148 , -0.097401,  0.16088 , -0.61836 , -0.18504 ,\n",
       "        -0.12461 , -2.2526  , -0.22321 ,  0.5043  ,  0.32257 ,  0.15313 ,\n",
       "         3.9636  , -0.71365 , -0.67012 ,  0.28388 ,  0.21738 ,  0.14433 ,\n",
       "         0.25926 ,  0.23434 ,  0.4274  , -0.44451 ,  0.13813 ,  0.36973 ,\n",
       "        -0.64289 ,  0.024142, -0.039315, -0.26037 ,  0.12017 , -0.043782,\n",
       "         0.41013 ,  0.1796  ]),\n",
       " array([-0.71621  ,  0.81454  ,  0.0023011, -0.059012 ,  0.028875 ,\n",
       "         0.45459  , -0.17868  , -1.1665   ,  0.036777 , -0.33568  ,\n",
       "        -0.7259   ,  0.2534   , -0.28328  , -0.15561  ,  1.1231   ,\n",
       "        -0.70812  , -1.064    , -1.004    , -0.085881 ,  0.63916  ,\n",
       "         0.51192  ,  0.045115 ,  1.0686   ,  0.24213  ,  0.28245  ,\n",
       "        -1.399    , -0.8832   , -0.13337  , -0.022768 ,  0.058573 ,\n",
       "         2.2658   , -1.3553   , -0.35109  , -0.79051  , -0.79848  ,\n",
       "        -0.62667  ,  0.89666  , -0.25787  , -0.65206  ,  0.42363  ,\n",
       "         0.96619  , -0.31608  ,  0.66048  ,  0.30942  , -0.51134  ,\n",
       "         0.53771  , -0.40058  ,  0.90246  ,  0.52429  ,  0.58136  ]),\n",
       " array([ 0.30045  ,  0.25006  , -0.16692  ,  0.1923   ,  0.026921 ,\n",
       "        -0.079486 , -0.91383  , -0.1974   , -0.053413 , -0.40846  ,\n",
       "        -0.26844  , -0.28212  , -0.5      ,  0.1221   ,  0.3903   ,\n",
       "         0.17797  , -0.4429   , -0.40478  , -0.9505   , -0.16897  ,\n",
       "         0.77793  ,  0.33525  ,  0.3346   , -0.1754   , -0.12017  ,\n",
       "        -1.7861   ,  0.29241  ,  0.55933  ,  0.029982 , -0.32417  ,\n",
       "         3.9297   ,  0.1088   , -0.57335  , -0.17842  ,  0.0041748,\n",
       "        -0.16309  ,  0.45077  , -0.16123  , -0.17311  , -0.087889 ,\n",
       "        -0.089032 ,  0.062001 , -0.19946  , -0.38863  , -0.18232  ,\n",
       "         0.060751 ,  0.098603 , -0.07131  ,  0.23052  , -0.51939  ]),\n",
       " array([ 0.098826,  0.27254 ,  0.08118 ,  0.013704, -1.3404  , -0.13173 ,\n",
       "        -0.29938 , -0.25209 , -0.71704 , -0.046857,  0.034884, -0.32256 ,\n",
       "         0.28969 , -0.44529 , -0.25461 , -0.62647 , -0.62567 ,  1.066   ,\n",
       "         0.10862 , -0.087038, -0.40804 , -0.41802 , -0.76834 , -0.028732,\n",
       "        -0.44153 , -1.0524  ,  0.63864 , -0.38668 , -2.1116  , -0.99672 ,\n",
       "         0.76284 , -0.050423, -0.45288 , -1.2211  , -0.079028, -0.33488 ,\n",
       "        -0.1098  ,  0.79212 ,  1.6629  , -0.36579 , -0.39322 , -0.378   ,\n",
       "         0.30721 ,  0.71362 , -0.19136 , -0.16843 ,  0.69823 ,  0.1049  ,\n",
       "        -0.22002 ,  0.63429 ]),\n",
       " array([ 1.2852   , -0.83264  ,  1.0001   ,  1.4076   , -0.46916  ,\n",
       "        -0.025217 , -1.1104   , -1.4955   , -0.043318 ,  0.73767  ,\n",
       "         0.57054  ,  0.30801  , -0.021955 ,  0.029478 ,  0.6235   ,\n",
       "         0.0059944, -1.293    ,  0.10022  ,  0.92243  , -1.0636   ,\n",
       "        -0.74206  , -0.51975  , -1.452    ,  1.1012   ,  0.67236  ,\n",
       "        -0.20952  ,  0.10977  , -0.10612  ,  0.56737  , -0.69656  ,\n",
       "         1.5181   , -0.38226  , -1.3818   , -0.13965  , -0.57918  ,\n",
       "         0.1493   , -0.50661  , -0.07605  , -0.68186  , -1.1118   ,\n",
       "         1.5953   , -0.34822  ,  0.051446 ,  0.67792  , -0.641    ,\n",
       "         0.40522  ,  1.2723   , -0.19236  ,  0.87769  , -0.42812  ]),\n",
       " array([-1.4578e-01,  5.0459e-01,  4.7525e-02, -4.6463e-01,  4.4249e-01,\n",
       "        -1.6772e-01, -4.0334e-01, -3.9223e-01, -4.1543e-01,  2.7637e-01,\n",
       "        -6.3027e-01,  6.9033e-01, -4.5441e-01,  1.5845e-03,  1.3120e+00,\n",
       "         5.2413e-01,  3.7380e-01,  2.8156e-01, -4.0563e-03, -5.2664e-01,\n",
       "        -5.7061e-01,  3.6561e-01,  5.9174e-01,  3.4713e-01,  4.5009e-01,\n",
       "        -2.1454e+00, -1.3795e+00,  3.0700e-01,  1.4876e+00, -9.6313e-01,\n",
       "         2.8403e+00,  5.0247e-01, -8.6752e-01,  6.4130e-02, -3.6376e-01,\n",
       "        -1.4019e-01,  1.1975e-01, -4.5442e-02,  7.2682e-01, -4.4447e-01,\n",
       "        -2.7226e-01,  1.5030e-01,  1.1489e-01,  7.1237e-01,  1.1341e-01,\n",
       "         2.2835e-01, -4.0801e-02, -4.1468e-01,  1.1054e-01,  1.1681e+00])]"
      ]
     },
     "execution_count": 23,
     "metadata": {},
     "output_type": "execute_result"
    }
   ],
   "source": [
    "embedding[1]"
   ]
  },
  {
   "cell_type": "code",
   "execution_count": 24,
   "metadata": {
    "scrolled": true
   },
   "outputs": [
    {
     "data": {
      "text/html": [
       "<div>\n",
       "<style scoped>\n",
       "    .dataframe tbody tr th:only-of-type {\n",
       "        vertical-align: middle;\n",
       "    }\n",
       "\n",
       "    .dataframe tbody tr th {\n",
       "        vertical-align: top;\n",
       "    }\n",
       "\n",
       "    .dataframe thead th {\n",
       "        text-align: right;\n",
       "    }\n",
       "</style>\n",
       "<table border=\"1\" class=\"dataframe\">\n",
       "  <thead>\n",
       "    <tr style=\"text-align: right;\">\n",
       "      <th></th>\n",
       "      <th>qid</th>\n",
       "      <th>question_text</th>\n",
       "      <th>target</th>\n",
       "      <th>tokens</th>\n",
       "    </tr>\n",
       "  </thead>\n",
       "  <tbody>\n",
       "    <tr>\n",
       "      <th>1016746</th>\n",
       "      <td>c73a15c8df94ce002647</td>\n",
       "      <td>Who is Shahnaz Wazir Ali?</td>\n",
       "      <td>0</td>\n",
       "      <td>[who, is, shahnaz, wazir, ali, ?]</td>\n",
       "    </tr>\n",
       "  </tbody>\n",
       "</table>\n",
       "</div>"
      ],
      "text/plain": [
       "                          qid              question_text  target  \\\n",
       "1016746  c73a15c8df94ce002647  Who is Shahnaz Wazir Ali?       0   \n",
       "\n",
       "                                    tokens  \n",
       "1016746  [who, is, shahnaz, wazir, ali, ?]  "
      ]
     },
     "execution_count": 24,
     "metadata": {},
     "output_type": "execute_result"
    }
   ],
   "source": [
    "df_train.sample()"
   ]
  },
  {
   "cell_type": "code",
   "execution_count": 26,
   "metadata": {},
   "outputs": [],
   "source": [
    "df_train['embedding'] = embedding"
   ]
  },
  {
   "cell_type": "code",
   "execution_count": 27,
   "metadata": {},
   "outputs": [
    {
     "data": {
      "text/plain": [
       "[array([ 6.8938e-01, -1.0644e-01,  1.7083e-01, -3.7583e-01,  7.5170e-01,\n",
       "         7.8149e-04, -5.3102e-01, -1.9903e-01, -1.4419e-01,  1.2748e-01,\n",
       "        -2.8038e-01,  7.0723e-01, -5.4100e-01,  1.9625e-01,  9.6635e-01,\n",
       "         6.0519e-01,  4.0918e-01, -3.1612e-02,  5.3900e-01, -8.7086e-01,\n",
       "        -2.0912e-01,  5.6853e-01,  6.5983e-01,  1.4583e-01,  1.0112e+00,\n",
       "        -2.0736e+00, -1.1242e+00,  5.9662e-04,  7.0332e-01, -8.2608e-01,\n",
       "         3.4445e+00,  3.2984e-01, -3.5324e-01, -1.0335e+00, -1.4753e-01,\n",
       "        -1.4874e-01, -4.1246e-01,  3.3489e-01,  1.9841e-01, -2.5478e-01,\n",
       "        -4.7193e-01,  6.6701e-02,  3.2777e-01,  6.8781e-01,  3.6428e-01,\n",
       "         2.1522e-01,  1.6494e-01,  4.1761e-01, -2.2504e-01,  6.1412e-01]),\n",
       " array([ 0.8052  ,  0.37121 ,  0.55933 , -0.011405,  0.17319 ,  0.195   ,\n",
       "         0.057701, -0.12447 , -0.011342,  0.20654 ,  0.41079 ,  0.89578 ,\n",
       "         0.31893 ,  0.030787,  0.60194 ,  1.2023  ,  0.68283 , -0.13267 ,\n",
       "         0.16984 , -1.4674  , -0.41844 , -0.47395 ,  0.7267  ,  0.61088 ,\n",
       "         0.44584 , -1.4793  , -0.50037 , -0.12249 ,  0.75994 , -0.77112 ,\n",
       "         3.9653  ,  0.38077 , -0.6439  , -0.84899 ,  0.07554 ,  0.17522 ,\n",
       "         0.30117 ,  0.12964 ,  0.27253 , -0.32951 ,  0.34211 ,  0.15608 ,\n",
       "         0.20953 ,  0.97948 ,  0.35927 ,  0.19116 ,  0.45494 , -0.1895  ,\n",
       "        -0.20902 ,  0.47612 ]),\n",
       " array([-1.0919e-03,  3.3324e-01,  3.5743e-01, -5.4041e-01,  8.2032e-01,\n",
       "        -4.9391e-01, -3.2588e-01,  1.9972e-03, -2.3829e-01,  3.5554e-01,\n",
       "        -6.0655e-01,  9.8932e-01, -2.1786e-01,  1.1236e-01,  1.1494e+00,\n",
       "         7.3284e-01,  5.1182e-01,  2.9287e-01,  2.8388e-01, -1.3590e+00,\n",
       "        -3.7951e-01,  5.0943e-01,  7.0710e-01,  6.2941e-01,  1.0534e+00,\n",
       "        -2.1756e+00, -1.3204e+00,  4.0001e-01,  1.5741e+00, -1.6600e+00,\n",
       "         3.7721e+00,  8.6949e-01, -8.0439e-01,  1.8390e-01, -3.4332e-01,\n",
       "         1.0714e-02,  2.3969e-01,  6.6748e-02,  7.0117e-01, -7.3702e-01,\n",
       "         2.0877e-01,  1.1564e-01, -1.5190e-01,  8.5908e-01,  2.2620e-01,\n",
       "         1.6519e-01,  3.6309e-01, -4.5697e-01, -4.8969e-02,  1.1316e+00]),\n",
       " array([ 0.62257 ,  0.071858,  0.024343, -0.12574 ,  0.31062 , -0.2258  ,\n",
       "        -0.34277 ,  0.50858 , -0.13264 , -0.068181, -0.21331 ,  0.27151 ,\n",
       "        -0.44914 ,  0.076563,  0.54888 ,  0.58235 ,  0.46806 , -0.3486  ,\n",
       "        -0.14855 , -0.81118 ,  0.26717 ,  0.24443 ,  0.016739,  0.04569 ,\n",
       "         0.23783 , -1.9723  , -0.067601, -0.50336 ,  0.21409 , -0.48434 ,\n",
       "         3.5853  ,  1.1371  , -1.1428  , -0.058785,  0.2457  , -0.16272 ,\n",
       "         0.17293 ,  0.18225 ,  0.0188  , -0.52325 , -0.34459 ,  0.035117,\n",
       "         0.27834 ,  0.18419 ,  0.23106 ,  0.13612 ,  0.021502,  0.18111 ,\n",
       "         0.038953,  0.23854 ]),\n",
       " array([ 0.68353 ,  0.22095 , -0.056607, -0.97564 ,  0.021986,  0.83748 ,\n",
       "        -0.68084 , -0.32343 ,  1.2331  , -0.2715  , -0.27033 ,  0.10855 ,\n",
       "         0.391   , -0.33831 ,  0.078469,  0.078807, -0.34752 ,  0.16324 ,\n",
       "         1.281   , -0.18929 , -0.10121 ,  0.813   , -0.567   , -0.091478,\n",
       "        -0.068022, -1.4918  , -0.34183 , -0.74081 ,  0.30182 ,  0.151   ,\n",
       "         3.3446  ,  1.2234  , -0.17981 , -0.52359 , -0.17783 ,  0.26673 ,\n",
       "         0.21092 ,  0.37758 ,  1.4058  , -0.67737 , -0.49647 , -0.2898  ,\n",
       "         0.42994 ,  0.97378 ,  0.27325 ,  0.30263 , -0.62122 ,  0.17708 ,\n",
       "         0.10696 ,  1.4949  ]),\n",
       " array([ 0.70853  ,  0.57088  , -0.4716   ,  0.18048  ,  0.54449  ,\n",
       "         0.72603  ,  0.18157  , -0.52393  ,  0.10381  , -0.17566  ,\n",
       "         0.078852 , -0.36216  , -0.11829  , -0.83336  ,  0.11917  ,\n",
       "        -0.16605  ,  0.061555 , -0.012719 , -0.56623  ,  0.013616 ,\n",
       "         0.22851  , -0.14396  , -0.067549 , -0.38157  , -0.23698  ,\n",
       "        -1.7037   , -0.86692  , -0.26704  , -0.2589   ,  0.1767   ,\n",
       "         3.8676   , -0.1613   , -0.13273  , -0.68881  ,  0.18444  ,\n",
       "         0.0052464, -0.33874  , -0.078956 ,  0.24185  ,  0.36576  ,\n",
       "        -0.34727  ,  0.28483  ,  0.075693 , -0.062178 , -0.38988  ,\n",
       "         0.22902  , -0.21617  , -0.22562  , -0.093918 , -0.80375  ]),\n",
       " array([-0.12531 , -0.41011 ,  0.30461 , -0.93852 ,  0.76559 , -0.12585 ,\n",
       "         0.20316 ,  0.33831 ,  0.13325 ,  0.54308 , -0.46842 ,  0.65699 ,\n",
       "        -0.47122 ,  0.19767 ,  0.54311 ,  0.57772 ,  0.53435 , -0.067058,\n",
       "         0.6141  , -1.1172  ,  0.38209 ,  0.86698 ,  0.32445 ,  0.55614 ,\n",
       "         1.1303  , -1.0456  , -0.74079 , -0.037203,  1.595   , -1.2456  ,\n",
       "         2.1787  ,  1.2212  , -0.74209 ,  0.070511, -0.57864 ,  0.19599 ,\n",
       "         0.43662 ,  0.15774 ,  0.50326 , -0.90375 ,  0.34938 , -0.79171 ,\n",
       "         0.11452 ,  0.8994  ,  0.26648 ,  0.092037,  0.37759 , -0.42059 ,\n",
       "         0.57856 ,  0.69841 ]),\n",
       " array([-1.4578e-01,  5.0459e-01,  4.7525e-02, -4.6463e-01,  4.4249e-01,\n",
       "        -1.6772e-01, -4.0334e-01, -3.9223e-01, -4.1543e-01,  2.7637e-01,\n",
       "        -6.3027e-01,  6.9033e-01, -4.5441e-01,  1.5845e-03,  1.3120e+00,\n",
       "         5.2413e-01,  3.7380e-01,  2.8156e-01, -4.0563e-03, -5.2664e-01,\n",
       "        -5.7061e-01,  3.6561e-01,  5.9174e-01,  3.4713e-01,  4.5009e-01,\n",
       "        -2.1454e+00, -1.3795e+00,  3.0700e-01,  1.4876e+00, -9.6313e-01,\n",
       "         2.8403e+00,  5.0247e-01, -8.6752e-01,  6.4130e-02, -3.6376e-01,\n",
       "        -1.4019e-01,  1.1975e-01, -4.5442e-02,  7.2682e-01, -4.4447e-01,\n",
       "        -2.7226e-01,  1.5030e-01,  1.1489e-01,  7.1237e-01,  1.1341e-01,\n",
       "         2.2835e-01, -4.0801e-02, -4.1468e-01,  1.1054e-01,  1.1681e+00])]"
      ]
     },
     "execution_count": 27,
     "metadata": {},
     "output_type": "execute_result"
    }
   ],
   "source": [
    "df_train['embedding'].iloc[0]"
   ]
  },
  {
   "cell_type": "code",
   "execution_count": 30,
   "metadata": {},
   "outputs": [
    {
     "data": {
      "text/plain": [
       "array([ 0.40462851,  0.19452225,  0.11698263, -0.40646188,  0.47879825,\n",
       "        0.09325144, -0.23017737, -0.08927535,  0.0660335 ,  0.12420862,\n",
       "       -0.24745225,  0.49469375, -0.19274875, -0.06955694,  0.66491488,\n",
       "        0.51716088,  0.33675938,  0.01812637,  0.27112296, -0.79099425,\n",
       "       -0.10014   ,  0.34375875,  0.29900125,  0.232754  ,  0.50295725,\n",
       "       -1.7609125 , -0.79270137, -0.12041205,  0.79712125, -0.70282125,\n",
       "        3.3748    ,  0.68787125, -0.60831   , -0.35439175, -0.138175  ,\n",
       "        0.0252813 ,  0.091235  ,  0.14055625,  0.50858   , -0.43804875,\n",
       "       -0.1290325 , -0.03410525,  0.17484787,  0.6542415 ,  0.18050875,\n",
       "        0.19496587,  0.06298388, -0.116445  ,  0.03225825,  0.627255  ])"
      ]
     },
     "execution_count": 30,
     "metadata": {},
     "output_type": "execute_result"
    }
   ],
   "source": [
    "np.array(df_train['embedding'].iloc[0]).mean(axis=0)"
   ]
  },
  {
   "cell_type": "code",
   "execution_count": 32,
   "metadata": {},
   "outputs": [],
   "source": [
    "X = [np.array(x).mean(axis=0) for x in df_train['embedding']]"
   ]
  },
  {
   "cell_type": "code",
   "execution_count": 34,
   "metadata": {},
   "outputs": [
    {
     "name": "stdout",
     "output_type": "stream",
     "text": [
      "100000\n",
      "[array([ 0.40462851,  0.19452225,  0.11698263, -0.40646188,  0.47879825,\n",
      "        0.09325144, -0.23017737, -0.08927535,  0.0660335 ,  0.12420862,\n",
      "       -0.24745225,  0.49469375, -0.19274875, -0.06955694,  0.66491488,\n",
      "        0.51716088,  0.33675938,  0.01812637,  0.27112296, -0.79099425,\n",
      "       -0.10014   ,  0.34375875,  0.29900125,  0.232754  ,  0.50295725,\n",
      "       -1.7609125 , -0.79270137, -0.12041205,  0.79712125, -0.70282125,\n",
      "        3.3748    ,  0.68787125, -0.60831   , -0.35439175, -0.138175  ,\n",
      "        0.0252813 ,  0.091235  ,  0.14055625,  0.50858   , -0.43804875,\n",
      "       -0.1290325 , -0.03410525,  0.17484787,  0.6542415 ,  0.18050875,\n",
      "        0.19496587,  0.06298388, -0.116445  ,  0.03225825,  0.627255  ]), array([ 2.32176733e-01,  2.72624667e-01,  1.61482207e-01,  1.54046667e-03,\n",
      "        2.43734933e-01,  9.82071660e-02, -5.42998600e-01, -3.62345333e-01,\n",
      "       -9.31990667e-02,  1.42568438e-01, -1.11210333e-01,  2.45089267e-01,\n",
      "       -3.11422400e-01, -9.69536333e-02,  5.40770667e-01,  8.80742933e-02,\n",
      "       -2.70735600e-01, -3.80752000e-02,  1.16959133e-02, -3.44435667e-01,\n",
      "        5.79692667e-02,  2.52089667e-01,  1.89279133e-01,  2.64881640e-01,\n",
      "        4.00897787e-01, -1.54900667e+00, -4.85332600e-01,  2.48897747e-02,\n",
      "        2.07552067e-01, -5.19754467e-01,  2.98150933e+00,  4.43698000e-02,\n",
      "       -3.86273533e-01, -3.19135800e-01, -1.83876547e-01, -1.54819333e-01,\n",
      "        8.59593333e-02,  1.66142320e-01,  1.03774400e-01, -3.22925000e-01,\n",
      "        3.07587580e-01, -9.53530667e-02, -4.42560000e-03,  4.01192400e-01,\n",
      "       -7.94356667e-02,  3.99194667e-02,  1.41225467e-01,  5.34805333e-02,\n",
      "        1.48282067e-01,  2.10897333e-01]), array([ 1.29726970e-01,  1.77945289e-01, -1.53786296e-01, -6.19432222e-02,\n",
      "        2.68533593e-01, -6.48572678e-02, -5.28124630e-01, -3.35901778e-01,\n",
      "       -1.84999046e-01,  1.07956259e-01, -5.57534074e-02,  2.00769259e-01,\n",
      "       -3.22114241e-01,  5.31251667e-02,  6.16046026e-01,  2.18534444e-02,\n",
      "        5.16955926e-02, -1.36996778e-02, -1.12577974e-01, -2.62062222e-01,\n",
      "        4.63344444e-03,  3.02520407e-01,  1.61608778e-01,  2.80518519e-01,\n",
      "        3.39308770e-01, -1.56800178e+00, -6.99786889e-01,  1.34753630e-01,\n",
      "        3.27327259e-01, -2.72109778e-01,  3.14574444e+00, -9.34601852e-02,\n",
      "       -2.49227704e-01, -2.41577548e-01, -3.73003921e-01, -1.34443559e-01,\n",
      "       -2.91785185e-03, -1.16212000e-01,  1.20398926e-01, -1.00037074e-01,\n",
      "        1.31856222e-01,  1.84870207e-01,  4.33961037e-02, -1.49971481e-02,\n",
      "        1.42913407e-01,  7.16842963e-02, -9.15502259e-02,  1.39381344e-01,\n",
      "        9.41269259e-02,  3.95379630e-01]), array([-1.17964667e-01, -1.03731333e-02, -3.28884267e-01,  1.89578267e-01,\n",
      "        3.77544600e-01,  3.10914000e-02, -4.82211740e-01,  9.01489333e-02,\n",
      "       -9.14065640e-02, -4.72867333e-01,  2.00227013e-01,  2.68222933e-01,\n",
      "       -6.77839267e-01, -4.92213667e-02,  4.39611467e-01,  1.46071253e-01,\n",
      "        2.65368800e-01,  2.75927400e-01, -6.85256420e-01, -5.46335333e-02,\n",
      "       -1.92453067e-01,  2.34782000e-01,  1.60722200e-01,  4.08339067e-02,\n",
      "        2.20641400e-01, -1.64901813e+00, -1.83238600e-01, -1.62086200e-01,\n",
      "       -4.06455740e-01, -6.09119467e-02,  2.71050133e+00,  2.68557333e-01,\n",
      "       -1.96108000e-01,  5.70914667e-02,  2.53685951e-01,  1.90809680e-01,\n",
      "        5.83746667e-02,  2.46894533e-01,  2.29314473e-01, -1.28298400e-01,\n",
      "       -3.96760867e-01,  4.08556800e-01, -3.73358713e-01,  1.74186667e-03,\n",
      "       -2.40046000e-02,  2.85167467e-01, -1.50458880e-01, -3.50966667e-02,\n",
      "        5.14215867e-02, -2.07214133e-01]), array([ 7.20145455e-02,  2.47904545e-01, -8.75883636e-02,  4.22354545e-02,\n",
      "        3.94388273e-01,  6.16388182e-02, -3.36189182e-01, -9.17186364e-02,\n",
      "       -2.41722566e-01, -1.26446364e-01, -5.55704000e-02,  3.22707273e-01,\n",
      "       -4.18135455e-01,  2.15377773e-01,  2.13000955e-01,  2.02889455e-01,\n",
      "        2.13995455e-01, -1.09732391e-01, -2.05852573e-01, -2.53059182e-01,\n",
      "        5.26440000e-02,  1.71597273e-01,  1.01944182e-01,  8.69434545e-02,\n",
      "        2.11126000e-01, -1.52476909e+00, -3.88783000e-01, -1.61100000e-03,\n",
      "        5.68172727e-02, -2.13090455e-01,  2.67569818e+00,  9.42720909e-02,\n",
      "       -4.58732727e-01, -3.00839091e-01, -1.92473006e-01, -1.36413191e-01,\n",
      "       -4.23371818e-02, -1.16045091e-01,  1.78395545e-01, -2.54350909e-02,\n",
      "       -1.59506273e-01,  2.22885364e-01, -3.03027909e-01,  2.75883818e-01,\n",
      "       -2.18401091e-01, -5.26690000e-02, -1.29097364e-02, -7.54545455e-05,\n",
      "        1.29480364e-01,  7.46645455e-02]), array([ 0.26474415,  0.2054164 , -0.11460382, -0.37497295,  0.31129   ,\n",
      "        0.1597399 , -0.38238535, -0.4316499 , -0.10705935,  0.07493076,\n",
      "        0.05465955,  0.4568653 , -0.10977825, -0.11981605,  0.5257522 ,\n",
      "        0.27622745,  0.03578831,  0.1296812 , -0.16302551, -0.4370252 ,\n",
      "        0.0763449 ,  0.16682335,  0.405721  ,  0.183109  ,  0.404401  ,\n",
      "       -1.637741  , -0.61059035, -0.10223655,  0.37352725, -0.5538147 ,\n",
      "        3.30489   ,  0.09076865, -0.44927115, -0.4873414 , -0.06097754,\n",
      "        0.0938987 ,  0.09622715,  0.24943525,  0.217868  , -0.0880618 ,\n",
      "        0.10148932, -0.0401036 ,  0.1441627 ,  0.46424845,  0.0420675 ,\n",
      "        0.1939215 ,  0.18020145, -0.0322172 , -0.10617735,  0.18286275]), array([ 0.07527832,  0.26450564,  0.00281023,  0.22245459,  0.25526573,\n",
      "        0.34745105, -0.42960818, -0.31176759, -0.01125259, -0.08487918,\n",
      "        0.13489691,  0.18340182, -0.13723223, -0.00250775,  0.42990545,\n",
      "       -0.05120405,  0.10427091,  0.01718577, -0.76341997,  0.107938  ,\n",
      "       -0.18573214, -0.03881982,  0.35954641,  0.10113468,  0.09128714,\n",
      "       -1.14480771, -0.32370864, -0.17275595,  0.02574609, -0.34854529,\n",
      "        2.17115091, -0.1580085 , -0.18352986, -0.13566055, -0.04511792,\n",
      "       -0.08136941, -0.030719  , -0.07291577,  0.08811792, -0.26140818,\n",
      "        0.05926855,  0.08677663,  0.10598382, -0.12539618,  0.09243309,\n",
      "        0.17193164,  0.09216677, -0.3653776 , -0.05337824,  0.02482814]), array([ 0.37048441,  0.11781936,  0.48266682, -0.24445836,  0.22052573,\n",
      "        0.059324  , -0.32395273,  0.15898839, -0.41211384, -0.06349174,\n",
      "       -0.03155545, -0.30321545, -0.43572409,  0.25686405,  0.28630405,\n",
      "        0.31728013,  0.29991809, -0.11085091, -0.47112021, -0.06049636,\n",
      "        0.02687764,  0.19580655, -0.01224391, -0.19354518,  0.02388255,\n",
      "       -1.69861091, -0.085186  ,  0.04928036,  0.46737936, -0.15175909,\n",
      "        2.81047727,  0.25644664, -0.633803  ,  0.07392518, -0.03997757,\n",
      "       -0.03261517,  0.15817182, -0.09702291, -0.25065873,  0.02567427,\n",
      "       -0.00591209,  0.14124636,  0.26019182, -0.27045764,  0.15268936,\n",
      "       -0.04122291, -0.21941237,  0.42090927, -0.35659545, -0.11361636]), array([ 0.399411  ,  0.40722757, -0.01220371,  0.01199286,  0.34717171,\n",
      "        0.40501814,  0.40844913, -0.35992371,  0.21522371,  0.12004457,\n",
      "        0.19138714, -0.02887   , -0.13437843, -0.44368079,  0.51048286,\n",
      "        0.42226586,  0.1608585 ,  0.12228143, -0.41374747, -0.27453857,\n",
      "       -0.11105871, -0.07780143,  0.41694943,  0.05328119, -0.09846543,\n",
      "       -1.39278571, -0.15064286,  0.35784386,  0.27727357,  0.12272857,\n",
      "        3.10157143, -0.27114429, -0.22070629, -0.48108   ,  0.23338343,\n",
      "       -0.22555743,  0.26326414, -0.03974457,  0.41216253, -0.187477  ,\n",
      "       -0.13231829,  0.15672569,  0.09019686,  0.21735886, -0.40104571,\n",
      "       -0.08102114,  0.26391286, -0.16678486,  0.15009957,  0.23464714]), array([ 0.17734571, -0.00442714, -0.03484463, -0.47387429,  0.38838129,\n",
      "        0.06025271, -0.32248714, -0.30072429, -0.21509714,  0.01596479,\n",
      "       -0.17307114,  0.35678857, -0.19662843, -0.06828064,  0.63506286,\n",
      "        0.25625214, -0.08493429, -0.25678571,  0.12199296, -0.51753486,\n",
      "       -0.14851   ,  0.15440571,  0.59343714,  0.12002429,  0.187078  ,\n",
      "       -1.30268143, -0.70255857,  0.02599446,  0.58172971, -0.22220529,\n",
      "        2.88925429,  0.48813714,  0.07506857, -0.57137631, -0.01642429,\n",
      "       -0.05273857, -0.12276343, -0.14633133, -0.05225943,  0.00714   ,\n",
      "       -0.55721714, -0.06227357,  0.34501086,  0.73023186,  0.11199614,\n",
      "        0.20749843, -0.26021443,  0.14065714, -0.01610143,  0.11270857])]\n"
     ]
    }
   ],
   "source": [
    "X\n",
    "print(f'{len(X)}\\n{X[:10]}')"
   ]
  },
  {
   "cell_type": "code",
   "execution_count": 35,
   "metadata": {},
   "outputs": [
    {
     "name": "stdout",
     "output_type": "stream",
     "text": [
      "(100000,)\n",
      "876140     0\n",
      "302100     0\n",
      "252965     0\n",
      "167842     0\n",
      "957830     0\n",
      "1103137    0\n",
      "539227     0\n",
      "991809     0\n",
      "60944      0\n",
      "624763     0\n",
      "Name: target, dtype: int64\n"
     ]
    }
   ],
   "source": [
    "y = df_train['target']\n",
    "print(f'{y.shape}\\n{y[:10]}')"
   ]
  },
  {
   "cell_type": "code",
   "execution_count": 36,
   "metadata": {},
   "outputs": [],
   "source": [
    "X_train, X_test, y_train, y_test = train_test_split(X, y)"
   ]
  },
  {
   "cell_type": "code",
   "execution_count": 37,
   "metadata": {},
   "outputs": [
    {
     "data": {
      "text/plain": [
       "LogisticRegression(C=1.0, class_weight=None, dual=False, fit_intercept=True,\n",
       "          intercept_scaling=1, max_iter=100, multi_class='warn',\n",
       "          n_jobs=None, penalty='l2', random_state=None, solver='warn',\n",
       "          tol=0.0001, verbose=0, warm_start=False)"
      ]
     },
     "execution_count": 37,
     "metadata": {},
     "output_type": "execute_result"
    }
   ],
   "source": [
    "from sklearn.linear_model import LogisticRegression\n",
    "\n",
    "lr = LogisticRegression()\n",
    "\n",
    "lr.fit(X_train, y_train)"
   ]
  },
  {
   "cell_type": "code",
   "execution_count": 40,
   "metadata": {},
   "outputs": [],
   "source": [
    "y_pred = lr.predict(X_test)"
   ]
  },
  {
   "cell_type": "code",
   "execution_count": 42,
   "metadata": {},
   "outputs": [
    {
     "data": {
      "text/plain": [
       "0.2168431669188099"
      ]
     },
     "execution_count": 42,
     "metadata": {},
     "output_type": "execute_result"
    }
   ],
   "source": [
    "score = f1_score(y_test, y_pred)\n",
    "score"
   ]
  },
  {
   "cell_type": "code",
   "execution_count": 1,
   "metadata": {},
   "outputs": [
    {
     "ename": "NameError",
     "evalue": "name 'SVC' is not defined",
     "output_type": "error",
     "traceback": [
      "\u001b[0;31m---------------------------------------\u001b[0m",
      "\u001b[0;31mNameError\u001b[0mTraceback (most recent call last)",
      "\u001b[0;32m<ipython-input-1-a32924d2dd0a>\u001b[0m in \u001b[0;36m<module>\u001b[0;34m()\u001b[0m\n\u001b[0;32m----> 1\u001b[0;31m \u001b[0msvm\u001b[0m \u001b[0;34m=\u001b[0m \u001b[0mSVC\u001b[0m\u001b[0;34m(\u001b[0m\u001b[0;34m)\u001b[0m\u001b[0;34m\u001b[0m\u001b[0m\n\u001b[0m\u001b[1;32m      2\u001b[0m \u001b[0msvm\u001b[0m\u001b[0;34m.\u001b[0m\u001b[0mfit\u001b[0m\u001b[0;34m(\u001b[0m\u001b[0mX_train\u001b[0m\u001b[0;34m,\u001b[0m \u001b[0my_train\u001b[0m\u001b[0;34m)\u001b[0m\u001b[0;34m\u001b[0m\u001b[0m\n",
      "\u001b[0;31mNameError\u001b[0m: name 'SVC' is not defined"
     ]
    }
   ],
   "source": [
    "svm = SVC()\n",
    "svm.fit(X_train, y_train)"
   ]
  },
  {
   "cell_type": "code",
   "execution_count": null,
   "metadata": {},
   "outputs": [],
   "source": [
    "y_pred_2 = svm.predict(X_test)\n",
    "score_2 = f1_score(y_test, y_pred_2)"
   ]
  }
 ],
 "metadata": {
  "kernelspec": {
   "display_name": "Python 3",
   "language": "python",
   "name": "python3"
  },
  "language_info": {
   "codemirror_mode": {
    "name": "ipython",
    "version": 3
   },
   "file_extension": ".py",
   "mimetype": "text/x-python",
   "name": "python",
   "nbconvert_exporter": "python",
   "pygments_lexer": "ipython3",
   "version": "3.6.5"
  }
 },
 "nbformat": 4,
 "nbformat_minor": 2
}
